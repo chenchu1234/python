{
  "nbformat": 4,
  "nbformat_minor": 0,
  "metadata": {
    "colab": {
      "provenance": []
    },
    "kernelspec": {
      "name": "python3",
      "display_name": "Python 3"
    },
    "language_info": {
      "name": "python"
    }
  },
  "cells": [
    {
      "cell_type": "code",
      "execution_count": null,
      "metadata": {
        "id": "PHlV0-Je_v-y"
      },
      "outputs": [],
      "source": []
    },
    {
      "cell_type": "markdown",
      "source": [
        "#roblem 2\n",
        "#Root of a function  f(x)  is defined as the value  x  where  f(x)=0\n",
        "#Consider a quadratic function  f(x)=x2+3x−4\n",
        "#Find the value of the function  f(x)  at points  x=2,x=−1,x=1"
      ],
      "metadata": {
        "id": "6UjbDmtZAZH3"
      }
    },
    {
      "cell_type": "code",
      "source": [
        "fun_evaluated_at_2 =2**2+3*2-4"
      ],
      "metadata": {
        "id": "6qAXU5SjA2E2"
      },
      "execution_count": null,
      "outputs": []
    },
    {
      "cell_type": "code",
      "source": [
        "fun_evaluated_at_2"
      ],
      "metadata": {
        "colab": {
          "base_uri": "https://localhost:8080/"
        },
        "id": "TrUQ9FDFB4s0",
        "outputId": "620b66ca-7470-4c32-9208-b8ecf5db1667"
      },
      "execution_count": null,
      "outputs": [
        {
          "output_type": "execute_result",
          "data": {
            "text/plain": [
              "6"
            ]
          },
          "metadata": {},
          "execution_count": 14
        }
      ]
    },
    {
      "cell_type": "code",
      "source": [
        "print(fun_evaluated_at_2)"
      ],
      "metadata": {
        "colab": {
          "base_uri": "https://localhost:8080/"
        },
        "id": "0Uo_xFdzBWAh",
        "outputId": "cc7c15e5-10e4-4e01-805d-6dc95da073c1"
      },
      "execution_count": null,
      "outputs": [
        {
          "output_type": "stream",
          "name": "stdout",
          "text": [
            "6\n"
          ]
        }
      ]
    },
    {
      "cell_type": "code",
      "source": [
        "fun_evaluated_at_neg_1=(-1)**2+3*(-1)-4"
      ],
      "metadata": {
        "id": "SmGVzLrhBl1Y"
      },
      "execution_count": null,
      "outputs": []
    },
    {
      "cell_type": "code",
      "source": [
        "fun_evaluated_at_neg_1"
      ],
      "metadata": {
        "colab": {
          "base_uri": "https://localhost:8080/"
        },
        "id": "JVZ_FSRmCz_M",
        "outputId": "14cbe12b-da53-4552-a3be-c3e0d07d6ef6"
      },
      "execution_count": null,
      "outputs": [
        {
          "output_type": "execute_result",
          "data": {
            "text/plain": [
              "-6"
            ]
          },
          "metadata": {},
          "execution_count": 22
        }
      ]
    },
    {
      "cell_type": "code",
      "source": [
        "fun_evaluated_at_1=1**2+3*1-4"
      ],
      "metadata": {
        "id": "7WtlaDftEzPl"
      },
      "execution_count": null,
      "outputs": []
    },
    {
      "cell_type": "code",
      "source": [
        "print(fun_evaluated_at_1)"
      ],
      "metadata": {
        "colab": {
          "base_uri": "https://localhost:8080/",
          "height": 141
        },
        "id": "c6ExrArhFPRh",
        "outputId": "9d1d5ce5-aab2-4d8a-8643-59a9cdd5c697"
      },
      "execution_count": null,
      "outputs": [
        {
          "output_type": "error",
          "ename": "NameError",
          "evalue": "name 'fun_evaluated_at_1' is not defined",
          "traceback": [
            "\u001b[0;31m---------------------------------------------------------------------------\u001b[0m",
            "\u001b[0;31mNameError\u001b[0m                                 Traceback (most recent call last)",
            "\u001b[0;32m/tmp/ipython-input-24-923002329.py\u001b[0m in \u001b[0;36m<cell line: 0>\u001b[0;34m()\u001b[0m\n\u001b[0;32m----> 1\u001b[0;31m \u001b[0mprint\u001b[0m\u001b[0;34m(\u001b[0m\u001b[0mfun_evaluated_at_1\u001b[0m\u001b[0;34m)\u001b[0m\u001b[0;34m\u001b[0m\u001b[0;34m\u001b[0m\u001b[0m\n\u001b[0m",
            "\u001b[0;31mNameError\u001b[0m: name 'fun_evaluated_at_1' is not defined"
          ]
        }
      ]
    },
    {
      "cell_type": "markdown",
      "source": [
        "Problem 3\n",
        "#A bag contains 45 apples, 65 oranges and 30 bananas. Find the percentage of each type of food items in the bag."
      ],
      "metadata": {
        "id": "oykLrPNuHWZC"
      }
    },
    {
      "cell_type": "code",
      "source": [
        "apple=45\n",
        "oranges=65\n",
        "bananas=30"
      ],
      "metadata": {
        "id": "e_VNSXQ-HaIN"
      },
      "execution_count": null,
      "outputs": []
    },
    {
      "cell_type": "code",
      "source": [
        "per_apples=apple*100/(apple+oranges+bananas)"
      ],
      "metadata": {
        "id": "zig_V49LHBlf"
      },
      "execution_count": null,
      "outputs": []
    },
    {
      "cell_type": "code",
      "source": [
        "print(per_apples)"
      ],
      "metadata": {
        "colab": {
          "base_uri": "https://localhost:8080/"
        },
        "id": "mOwaJI43HxnS",
        "outputId": "8ebb92ec-3431-49fa-fe7f-ea03a63c605e"
      },
      "execution_count": null,
      "outputs": [
        {
          "output_type": "stream",
          "name": "stdout",
          "text": [
            "32.142857142857146\n"
          ]
        }
      ]
    },
    {
      "cell_type": "code",
      "source": [
        "per_oranges=oranges*100/(apple+oranges+bananas)"
      ],
      "metadata": {
        "id": "-kxAimoXH7O1"
      },
      "execution_count": null,
      "outputs": []
    },
    {
      "cell_type": "code",
      "source": [
        "print(per_oranges)"
      ],
      "metadata": {
        "colab": {
          "base_uri": "https://localhost:8080/"
        },
        "id": "lrJyLrTXI_mw",
        "outputId": "c75bf235-d9ae-479b-d03b-b99b2763f6a5"
      },
      "execution_count": null,
      "outputs": [
        {
          "output_type": "stream",
          "name": "stdout",
          "text": [
            "46.42857142857143\n"
          ]
        }
      ]
    },
    {
      "cell_type": "code",
      "source": [
        "per_bananas=bananas*100/(apple+oranges+bananas)"
      ],
      "metadata": {
        "id": "2TYVkUo1JImZ"
      },
      "execution_count": null,
      "outputs": []
    },
    {
      "cell_type": "code",
      "source": [
        "print(per_bananas)"
      ],
      "metadata": {
        "colab": {
          "base_uri": "https://localhost:8080/"
        },
        "id": "6qvgjoaUJ5oJ",
        "outputId": "52d75e67-6fc7-4361-ea63-2699742a17c9"
      },
      "execution_count": null,
      "outputs": [
        {
          "output_type": "stream",
          "name": "stdout",
          "text": [
            "21.428571428571427\n"
          ]
        }
      ]
    },
    {
      "cell_type": "markdown",
      "source": [
        "Problem 4\n",
        "You were playing a fun guessing game during your school break. There were a total of 100 participants excluding you. Out of these 100 people, 30 were Maths Majors, 45 were Economics Majors and 25 were Physics Majors.\n",
        "\n",
        "The game was divided into three rounds.\n",
        "\n",
        "In the first round, you had to guess the number of Maths Majors and you correctly guessed 20 of them.\n",
        "In the second round, you had to guess the number of Economics Majors and you correctly guessed 30 of them.\n",
        "In the final third round, you had to guess the number of Physics Majors and you correctly guessed 20 of them.\n",
        "Accuracy is defined as the number of correct guesses upon total number of people in the group (expressed in percentage)"
      ],
      "metadata": {
        "id": "Gd0g4ZV_KTfN"
      }
    },
    {
      "cell_type": "markdown",
      "source": [],
      "metadata": {
        "id": "gOwfnLHNKT_f"
      }
    },
    {
      "cell_type": "code",
      "source": [
        "maths_majors=30"
      ],
      "metadata": {
        "id": "lf8GAL62Kg4J"
      },
      "execution_count": null,
      "outputs": []
    },
    {
      "cell_type": "code",
      "source": [
        "economics_majors=45"
      ],
      "metadata": {
        "id": "J5hV0wigJ_Xh"
      },
      "execution_count": null,
      "outputs": []
    },
    {
      "cell_type": "code",
      "source": [
        "physics_majors=25"
      ],
      "metadata": {
        "id": "M7BRovb7Krck"
      },
      "execution_count": null,
      "outputs": []
    },
    {
      "cell_type": "code",
      "source": [
        "\n",
        "correctly_maths_majors=20"
      ],
      "metadata": {
        "id": "xs00MaAGKzrm"
      },
      "execution_count": null,
      "outputs": []
    },
    {
      "cell_type": "code",
      "source": [
        "correctly_economics_majors=30"
      ],
      "metadata": {
        "id": "dXxBeHKFLLe1"
      },
      "execution_count": null,
      "outputs": []
    },
    {
      "cell_type": "code",
      "source": [
        "correctly_physics_majors=20"
      ],
      "metadata": {
        "id": "r_4DVjkNLg5b"
      },
      "execution_count": null,
      "outputs": []
    },
    {
      "cell_type": "code",
      "source": [
        "correctly_math_majors_accuracy=correctly_maths_majors*100/(maths_majors)"
      ],
      "metadata": {
        "id": "w8zPcewDLsDI"
      },
      "execution_count": null,
      "outputs": []
    },
    {
      "cell_type": "code",
      "source": [
        "print(correctly_math_majors_accuracy)"
      ],
      "metadata": {
        "colab": {
          "base_uri": "https://localhost:8080/"
        },
        "id": "eomVOlEUMgdm",
        "outputId": "723e6ad0-43ab-45e0-f926-d69f8ddbf8d4"
      },
      "execution_count": null,
      "outputs": [
        {
          "output_type": "stream",
          "name": "stdout",
          "text": [
            "66.66666666666667\n"
          ]
        }
      ]
    },
    {
      "cell_type": "code",
      "source": [
        "correctly_economics_majors_accuracy=correctly_economics_majors*100/(economics_majors)"
      ],
      "metadata": {
        "id": "oX5Y63VCMpFl"
      },
      "execution_count": null,
      "outputs": []
    },
    {
      "cell_type": "code",
      "source": [
        "economics_majors"
      ],
      "metadata": {
        "colab": {
          "base_uri": "https://localhost:8080/"
        },
        "id": "wECzzEDVP0Ja",
        "outputId": "4764e2f4-8387-45ba-af66-c718f19e807c"
      },
      "execution_count": null,
      "outputs": [
        {
          "output_type": "execute_result",
          "data": {
            "text/plain": [
              "45"
            ]
          },
          "metadata": {},
          "execution_count": 101
        }
      ]
    },
    {
      "cell_type": "code",
      "source": [
        "economics_majors"
      ],
      "metadata": {
        "colab": {
          "base_uri": "https://localhost:8080/"
        },
        "id": "mr7Zkqr5PyDX",
        "outputId": "54c0c2d7-ea22-489b-e7d7-d99c16123c91"
      },
      "execution_count": null,
      "outputs": [
        {
          "output_type": "execute_result",
          "data": {
            "text/plain": [
              "45"
            ]
          },
          "metadata": {},
          "execution_count": 102
        }
      ]
    },
    {
      "cell_type": "code",
      "source": [
        "print(correctly_economics_majors_accuracy)"
      ],
      "metadata": {
        "colab": {
          "base_uri": "https://localhost:8080/"
        },
        "id": "7G7PNNCpO0cy",
        "outputId": "07802943-5b25-4085-a9ac-1648ba0c548b"
      },
      "execution_count": null,
      "outputs": [
        {
          "output_type": "stream",
          "name": "stdout",
          "text": [
            "66.66666666666667\n"
          ]
        }
      ]
    },
    {
      "cell_type": "code",
      "source": [
        "correctly_physics_majors_accuracy=correctly_physics_majors*100/(physics_majors)"
      ],
      "metadata": {
        "id": "c7vmQNDIO50z"
      },
      "execution_count": null,
      "outputs": []
    },
    {
      "cell_type": "code",
      "source": [
        "print(correctly_physics_majors_accuracy)"
      ],
      "metadata": {
        "colab": {
          "base_uri": "https://localhost:8080/"
        },
        "id": "FXif3pSyQZl8",
        "outputId": "1409a69d-b9fa-41fc-be1b-caeeea37550a"
      },
      "execution_count": null,
      "outputs": [
        {
          "output_type": "stream",
          "name": "stdout",
          "text": [
            "80.0\n"
          ]
        }
      ]
    },
    {
      "cell_type": "markdown",
      "source": [],
      "metadata": {
        "id": "r3mKblC8SSOF"
      }
    },
    {
      "cell_type": "code",
      "source": [
        "total_accuracy=(correctly_physics_majors_accuracy+correctly_economics_majors_accuracy+correctly_math_majors_accuracy)/3"
      ],
      "metadata": {
        "id": "3Yit9M45Rqn3"
      },
      "execution_count": 110,
      "outputs": []
    },
    {
      "cell_type": "code",
      "source": [
        "total_accuracy"
      ],
      "metadata": {
        "colab": {
          "base_uri": "https://localhost:8080/"
        },
        "id": "znYSVpqTR694",
        "outputId": "afcb463d-7de7-448e-9016-93dd2db25526"
      },
      "execution_count": 111,
      "outputs": [
        {
          "output_type": "execute_result",
          "data": {
            "text/plain": [
              "71.11111111111113"
            ]
          },
          "metadata": {},
          "execution_count": 111
        }
      ]
    },
    {
      "cell_type": "code",
      "source": [],
      "metadata": {
        "id": "gaXfVhULSiON"
      },
      "execution_count": null,
      "outputs": []
    }
  ]
}